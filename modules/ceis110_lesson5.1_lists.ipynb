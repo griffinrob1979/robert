{
 "cells": [
  {
   "cell_type": "markdown",
   "id": "b53d5d8d-c9d6-4f40-b384-658d2a787996",
   "metadata": {},
   "source": [
    "# CEIS110 Module 5.1 - Intro to Lists\n",
    "\n",
    "Author: Prof. Oscar Trevizo\n",
    "\n",
    "Date: August 2, 2023\n",
    "\n",
    "References:\n",
    "\n",
    "- https://docs.python.org/3/tutorial/datastructures.html\n"
   ]
  },
  {
   "cell_type": "code",
   "execution_count": null,
   "id": "d8a8fa43-237e-4c27-bbe2-0eaa69f84fc4",
   "metadata": {},
   "outputs": [],
   "source": [
    "# %% List basics\n",
    "my_list = ['apple', 'banana', 'orange', 'pear', 'cherry', 'blackberry']"
   ]
  },
  {
   "cell_type": "code",
   "execution_count": null,
   "id": "85e39e81-42d0-47dc-a031-5a1993f0b6c1",
   "metadata": {},
   "outputs": [],
   "source": [
    "my_list"
   ]
  },
  {
   "cell_type": "code",
   "execution_count": null,
   "id": "4ac89db4-8baa-4aff-8721-204b29374825",
   "metadata": {},
   "outputs": [],
   "source": [
    "# length of my list is:\n",
    "len(my_list)"
   ]
  },
  {
   "cell_type": "code",
   "execution_count": null,
   "id": "c903a861-2b44-428a-9f0b-51b3fcec3090",
   "metadata": {},
   "outputs": [],
   "source": [
    "# Append an item or value to the list:\n",
    "my_list.append('blueberry')"
   ]
  },
  {
   "cell_type": "code",
   "execution_count": null,
   "id": "7308be53-d28f-4e5d-a37c-f1cc89145b0d",
   "metadata": {},
   "outputs": [],
   "source": [
    "my_list"
   ]
  },
  {
   "cell_type": "code",
   "execution_count": null,
   "id": "1532436c-fd8c-47f2-a0aa-6c568e094374",
   "metadata": {},
   "outputs": [],
   "source": [
    "len(my_list)"
   ]
  },
  {
   "cell_type": "markdown",
   "id": "b2f241ea-547e-4d1c-9d65-64c7b8895e7f",
   "metadata": {},
   "source": [
    "## Concatenating list"
   ]
  },
  {
   "cell_type": "code",
   "execution_count": null,
   "id": "67b16c22-c2ff-47cf-9754-5426e11235ea",
   "metadata": {},
   "outputs": [],
   "source": [
    "new_list = ['mango', 'avocado']"
   ]
  },
  {
   "cell_type": "code",
   "execution_count": null,
   "id": "d3a23c6b-df4e-4493-829a-f2728f78574e",
   "metadata": {},
   "outputs": [],
   "source": [
    "new_list"
   ]
  },
  {
   "cell_type": "code",
   "execution_count": null,
   "id": "13fde056-6c24-4907-afbe-cc4d824aaf1f",
   "metadata": {},
   "outputs": [],
   "source": [
    "conc_list = my_list + new_list"
   ]
  },
  {
   "cell_type": "code",
   "execution_count": null,
   "id": "7fa807d6-629f-41a9-8c1c-100b692ad2fa",
   "metadata": {},
   "outputs": [],
   "source": [
    "conc_list"
   ]
  },
  {
   "cell_type": "markdown",
   "id": "587932b7-cd4b-4552-9464-6010a86ad9c6",
   "metadata": {},
   "source": [
    "## List indexing"
   ]
  },
  {
   "cell_type": "code",
   "execution_count": null,
   "id": "ceed358e-f90f-4da0-8b55-1e05639f42fc",
   "metadata": {},
   "outputs": [],
   "source": [
    "my_list[0]"
   ]
  },
  {
   "cell_type": "code",
   "execution_count": null,
   "id": "e5f31929-d386-4a25-9190-5cb6af6b087a",
   "metadata": {},
   "outputs": [],
   "source": [
    "my_list[3]"
   ]
  },
  {
   "cell_type": "code",
   "execution_count": null,
   "id": "c76dd2a5-5683-4f2d-83a7-b92822b100ea",
   "metadata": {},
   "outputs": [],
   "source": [
    "my_list[len(my_list)-1]"
   ]
  },
  {
   "cell_type": "code",
   "execution_count": null,
   "id": "5dd0ac4d-9f6f-4a55-86cf-e5a23c180ae8",
   "metadata": {},
   "outputs": [],
   "source": [
    "my_list[-1]"
   ]
  },
  {
   "cell_type": "code",
   "execution_count": null,
   "id": "934fc411-6dae-4409-8038-52ef67315e54",
   "metadata": {},
   "outputs": [],
   "source": [
    "conc_list[-1]"
   ]
  },
  {
   "cell_type": "markdown",
   "id": "cba94b02-0d57-44ef-8d13-0081f0ff4023",
   "metadata": {},
   "source": [
    "## List slicing"
   ]
  },
  {
   "cell_type": "code",
   "execution_count": null,
   "id": "75dc23df-4cfe-4c72-826d-281172fbd732",
   "metadata": {},
   "outputs": [],
   "source": [
    "# %% Slicing\n",
    "# https://www.geeksforgeeks.org/python-list-slicing/\n",
    "# List slicing examples\n",
    "# List[ Initial : End : IndexJump ]\n",
    "# Initialize list\n",
    "num_list = [0, 1, 1, 2, 3, 5, 8, 13, 21]\n"
   ]
  },
  {
   "cell_type": "code",
   "execution_count": null,
   "id": "bc3b5541-26e6-48aa-a299-ac967912e334",
   "metadata": {},
   "outputs": [],
   "source": [
    "num_list"
   ]
  },
  {
   "cell_type": "code",
   "execution_count": null,
   "id": "43f1b60b-f113-4bad-9e9b-fb2b7eae3f79",
   "metadata": {},
   "outputs": [],
   "source": [
    "num_list[3:9:2]"
   ]
  },
  {
   "cell_type": "code",
   "execution_count": null,
   "id": "29875691-b01a-4da0-9588-08a5f4e4a5cc",
   "metadata": {},
   "outputs": [],
   "source": [
    "num_list[3:8:2]"
   ]
  },
  {
   "cell_type": "code",
   "execution_count": null,
   "id": "f81c4760-fb6f-49e8-a64a-1a516abb997b",
   "metadata": {},
   "outputs": [],
   "source": [
    "num_list[::2]"
   ]
  },
  {
   "cell_type": "code",
   "execution_count": null,
   "id": "e2627b0d-6cb4-412f-a4ba-9f1c7022429e",
   "metadata": {},
   "outputs": [],
   "source": []
  }
 ],
 "metadata": {
  "kernelspec": {
   "display_name": "Python 3 (ipykernel)",
   "language": "python",
   "name": "python3"
  },
  "language_info": {
   "codemirror_mode": {
    "name": "ipython",
    "version": 3
   },
   "file_extension": ".py",
   "mimetype": "text/x-python",
   "name": "python",
   "nbconvert_exporter": "python",
   "pygments_lexer": "ipython3",
   "version": "3.9.13"
  }
 },
 "nbformat": 4,
 "nbformat_minor": 5
}
