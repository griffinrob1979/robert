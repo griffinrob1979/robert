{
 "cells": [
  {
   "cell_type": "markdown",
   "id": "0617ca11-23c1-4eb0-99e0-43b0d0263799",
   "metadata": {},
   "source": [
    "# CEIS110 Module 3.2 - Python WHILE loops\n",
    "\n",
    "Author: Prof. Oscar Trevizo\n",
    "\n",
    "Date: July 20, 2023\n",
    "\n",
    "## Reference\n",
    "\n",
    "https://docs.python.org/3/reference/compound_stmts.html?highlight=while#while\n",
    "\n",
    "https://www.geeksforgeeks.org/python-while-loop/\n",
    "\n",
    "https://youtu.be/SDMPE4gr87Q"
   ]
  },
  {
   "cell_type": "code",
   "execution_count": null,
   "id": "39ae7524-9e74-4321-a4f2-22c95157cf72",
   "metadata": {},
   "outputs": [],
   "source": [
    "# https://docs.python.org/3/library/random.html#random.Random\n",
    "# https://www.geeksforgeeks.org/python-random-module/\n",
    "import random"
   ]
  },
  {
   "cell_type": "code",
   "execution_count": null,
   "id": "fcc31721-f074-493f-a550-03b485aa9efe",
   "metadata": {},
   "outputs": [],
   "source": [
    "random.random()"
   ]
  },
  {
   "cell_type": "code",
   "execution_count": null,
   "id": "10f4f40f-f3bc-4664-9625-6cf6e03ea49e",
   "metadata": {},
   "outputs": [],
   "source": [
    "test = random.random()"
   ]
  },
  {
   "cell_type": "code",
   "execution_count": null,
   "id": "1636789c-2e07-4c1b-a252-5ee385d4c771",
   "metadata": {},
   "outputs": [],
   "source": [
    "test"
   ]
  },
  {
   "cell_type": "code",
   "execution_count": null,
   "id": "291a00f9-b793-494f-b52d-d940ed4109dc",
   "metadata": {},
   "outputs": [],
   "source": [
    "# Force my first test to be 0.5\n",
    "test = 0.5"
   ]
  },
  {
   "cell_type": "code",
   "execution_count": null,
   "id": "8487fd66-9ed7-4172-a9e4-9da9f1694357",
   "metadata": {},
   "outputs": [],
   "source": [
    "while test < 0.9:\n",
    "    print('Test coming into the loop = ', test)\n",
    "    test = random.random()\n",
    "    print('New test, to go back to the loop = ', test)"
   ]
  },
  {
   "cell_type": "code",
   "execution_count": null,
   "id": "bc58628b-cae2-49e8-9ed8-a070ae2f6ad2",
   "metadata": {},
   "outputs": [],
   "source": [
    "test < 0.9"
   ]
  },
  {
   "cell_type": "code",
   "execution_count": null,
   "id": "b7c2e31e-9700-443c-b963-78ab0de09ca9",
   "metadata": {},
   "outputs": [],
   "source": []
  }
 ],
 "metadata": {
  "kernelspec": {
   "display_name": "Python 3 (ipykernel)",
   "language": "python",
   "name": "python3"
  },
  "language_info": {
   "codemirror_mode": {
    "name": "ipython",
    "version": 3
   },
   "file_extension": ".py",
   "mimetype": "text/x-python",
   "name": "python",
   "nbconvert_exporter": "python",
   "pygments_lexer": "ipython3",
   "version": "3.9.13"
  }
 },
 "nbformat": 4,
 "nbformat_minor": 5
}
