{
 "cells": [
  {
   "cell_type": "markdown",
   "id": "21cec907-58a3-4278-a537-c8c3715e6287",
   "metadata": {},
   "source": [
    "## CEIS110 Module 6.2 NOAA Time Series Pandas Plot\n",
    "\n",
    "August 8, 2023\n",
    "\n",
    "Use Pandas to plot a time series DataFrame. Pandas uses matplotlib by default.\n",
    "\n",
    "@author: Oscar Trevizo\n",
    "\n",
    "## References\n",
    "- https://pypi.org/project/noaa-sdk/\n",
    "- https://www.weather.gov/documentation/services-web-api\n",
    "- https://github.com/paulokuong/noaa\n",
    "- https://www.weather.gov/media/documentation/docs/NWS_Geolocation.pdf\n",
    "- https://github.com/paulokuong/noaa\n",
    "- https://pandas.pydata.org/docs/reference/api/pandas.DataFrame.plot.html\n",
    "\n",
    "YouTube:\n",
    "https://youtu.be/c400IhsIJkA "
   ]
  },
  {
   "cell_type": "code",
   "execution_count": null,
   "id": "656f79b5-af0c-4688-a97c-28e97e514374",
   "metadata": {},
   "outputs": [],
   "source": [
    "# Import libraries\n",
    "import pandas as pd\n",
    "import datetime\n",
    "from noaa_sdk import noaa"
   ]
  },
  {
   "cell_type": "markdown",
   "id": "145c6079-558a-4631-b745-d9b873e45868",
   "metadata": {},
   "source": [
    "## Get your data"
   ]
  },
  {
   "cell_type": "code",
   "execution_count": null,
   "id": "a323cc8a-aa08-4df6-b7f9-22a8f7f49bcb",
   "metadata": {},
   "outputs": [],
   "source": [
    "# Init parameters\n",
    "zip_code = '60610'\n",
    "country = 'US'\n",
    "today = datetime.datetime.now()\n",
    "past = today - datetime.timedelta(days=14)\n",
    "start_date = past.strftime(\"%Y-%m-%dT00:00:00Z\")\n",
    "end_date = today.strftime(\"%Y-%m-%dT23:59:59Z\")"
   ]
  },
  {
   "cell_type": "code",
   "execution_count": null,
   "id": "60c4a181-1392-4851-a94f-ef114c9fc6b9",
   "metadata": {},
   "outputs": [],
   "source": [
    "# Init object to connect to the REST API\n",
    "weather = noaa.NOAA()"
   ]
  },
  {
   "cell_type": "code",
   "execution_count": null,
   "id": "6605a04e-0367-45bd-958b-98ccedd42517",
   "metadata": {},
   "outputs": [],
   "source": [
    "# Pull data from the weather\n",
    "observations = weather.get_observations(zip_code, country, start_date, end_date)"
   ]
  },
  {
   "cell_type": "code",
   "execution_count": null,
   "id": "86145c4c-6bd2-4b13-a05f-d68f606153c6",
   "metadata": {},
   "outputs": [],
   "source": [
    "# Init some lists\n",
    "time = []\n",
    "zc = []   # Optionally =, one could loop through several zip codes\n",
    "wind_speed = []\n",
    "temperature = []\n",
    "humidity = []\n",
    "wind_direction = []\n",
    "pressure = []\n",
    "visibility = []\n",
    "description = []\n"
   ]
  },
  {
   "cell_type": "code",
   "execution_count": null,
   "id": "d6021be0-0ede-4aaa-9f8f-868656168730",
   "metadata": {},
   "outputs": [],
   "source": [
    "for obs in observations:\n",
    "    time.append(obs[\"timestamp\"])\n",
    "    zc.append(zip_code)\n",
    "    wind_speed.append(obs[\"windSpeed\"][\"value\"])\n",
    "    temperature.append(obs[\"temperature\"][\"value\"])\n",
    "    humidity.append(obs[\"relativeHumidity\"][\"value\"])\n",
    "    wind_direction.append(obs[\"windDirection\"][\"value\"])\n",
    "    pressure.append(obs[\"barometricPressure\"][\"value\"])\n",
    "    visibility.append(obs[\"visibility\"][\"value\"])\n",
    "    description.append(obs[\"textDescription\"])\n"
   ]
  },
  {
   "cell_type": "code",
   "execution_count": null,
   "id": "fa6df4f5-09a5-4a60-be35-eb8d85b85804",
   "metadata": {},
   "outputs": [],
   "source": [
    "# Build the DataFrame using dictionary\n",
    "obs_df = pd.DataFrame({'time':time, 'zip_code':zc, 'temperature':temperature, \n",
    "                       'wind_speed':wind_speed, 'humidity':humidity,\n",
    "                       'wind_direction':wind_direction, 'pressure':pressure, \n",
    "                       'pressure':pressure,\n",
    "                       'visibility':visibility, 'description':description})\n"
   ]
  },
  {
   "cell_type": "code",
   "execution_count": null,
   "id": "3cfeb1ed-ec14-49d9-bc2e-d8b807ae8400",
   "metadata": {},
   "outputs": [],
   "source": [
    "obs_df.info()"
   ]
  },
  {
   "cell_type": "markdown",
   "id": "037fc3d7-7e83-4361-a932-f742f4015acd",
   "metadata": {},
   "source": [
    "## Build a time series"
   ]
  },
  {
   "cell_type": "code",
   "execution_count": null,
   "id": "33c3475e-daa2-4617-b593-e8d415de3459",
   "metadata": {},
   "outputs": [],
   "source": [
    "# Convert the DataFrame into a time series type of DataFrame\n",
    "obs_df.time = pd.to_datetime(obs_df['time'])\n"
   ]
  },
  {
   "cell_type": "code",
   "execution_count": null,
   "id": "bc451343-3d8e-405b-892a-c332b6ddb9ec",
   "metadata": {},
   "outputs": [],
   "source": [
    "obs_df.info()"
   ]
  },
  {
   "cell_type": "code",
   "execution_count": null,
   "id": "5637c8df-5cc7-472b-89b3-9e7851bd218d",
   "metadata": {},
   "outputs": [],
   "source": [
    "# Assign the column 'time' to be the index of my DataFrame obs_df\n",
    "obs_df.set_index('time', inplace=True)\n"
   ]
  },
  {
   "cell_type": "code",
   "execution_count": null,
   "id": "09f256dc-b354-40f3-b204-09d9b5a4af05",
   "metadata": {},
   "outputs": [],
   "source": [
    "obs_df.head()"
   ]
  },
  {
   "cell_type": "markdown",
   "id": "4ebf64fb-3c9a-4b04-a1d6-d3ba4d0a9836",
   "metadata": {},
   "source": [
    "## Pandas plot on time series\n",
    "\n",
    "Pandas has a plot() method that you can use easily on a time series."
   ]
  },
  {
   "cell_type": "code",
   "execution_count": null,
   "id": "a5746a5a-76ac-4a9a-b102-59a5ab45fe26",
   "metadata": {},
   "outputs": [],
   "source": [
    "obs_df.temperature.plot()"
   ]
  },
  {
   "cell_type": "code",
   "execution_count": null,
   "id": "1c2973ca-6293-464c-9659-d884e615734a",
   "metadata": {},
   "outputs": [],
   "source": [
    "obs_df.wind_speed.plot()"
   ]
  },
  {
   "cell_type": "code",
   "execution_count": null,
   "id": "c6a35dca-15d0-4e6c-ac92-8d041e205c56",
   "metadata": {},
   "outputs": [],
   "source": [
    "obs_df.humidity.plot()"
   ]
  },
  {
   "cell_type": "code",
   "execution_count": null,
   "id": "2ab11909-7e68-4829-b786-382f80d54f0c",
   "metadata": {},
   "outputs": [],
   "source": []
  }
 ],
 "metadata": {
  "kernelspec": {
   "display_name": "Python 3 (ipykernel)",
   "language": "python",
   "name": "python3"
  },
  "language_info": {
   "codemirror_mode": {
    "name": "ipython",
    "version": 3
   },
   "file_extension": ".py",
   "mimetype": "text/x-python",
   "name": "python",
   "nbconvert_exporter": "python",
   "pygments_lexer": "ipython3",
   "version": "3.9.13"
  }
 },
 "nbformat": 4,
 "nbformat_minor": 5
}
